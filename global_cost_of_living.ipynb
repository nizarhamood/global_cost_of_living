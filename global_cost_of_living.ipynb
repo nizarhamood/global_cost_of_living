{
 "cells": [
  {
   "attachments": {},
   "cell_type": "markdown",
   "metadata": {},
   "source": [
    "# Global Cost of Living\n",
    "\n",
    "About Dataset\n",
    "This dataset contains information about the cost of living in almost 5000 cities across the world. The data were gathered by scraping Numbeo's website (https://www.numbeo.com).\n",
    "\n",
    "\n",
    "|Column     | Description|\n",
    "------------|-------------|\n",
    "|city\t    |Name of the city|\n",
    "|country\t|Name of the country|\n",
    "|x1\t        |Meal, Inexpensive Restaurant (USD)|\n",
    "|x2\t        |Meal for 2 People, Mid-range Restaurant, Three-course (USD)|\n",
    "|x3\t        |McMeal at McDonalds (or Equivalent Combo Meal) (USD)|\n",
    "|x4\t        |Domestic Beer (0.5 liter draught, in restaurants) (USD)|\n",
    "|x5\t        |Imported Beer (0.33 liter bottle, in restaurants) (USD)|\n",
    "|x6\t        |Cappuccino (regular, in restaurants) (USD)|\n",
    "|x7\t        |Coke/Pepsi (0.33 liter bottle, in restaurants) (USD)|\n",
    "|x8\t        |Water (0.33 liter bottle, in restaurants) (USD)|\n",
    "|x9\t        |Milk (regular), (1 liter) (USD)|\n",
    "|x10\t    |Loaf of Fresh White Bread (500g) (USD)|\n",
    "|x11\t    |Rice (white), (1kg) (USD)|\n",
    "|x12\t    |Eggs (regular) (12) (USD)|\n",
    "|x13\t    |Local Cheese (1kg) (USD)|\n",
    "|x14\t    |Chicken Fillets (1kg) (USD)|\n",
    "|x15\t    |Beef Round (1kg) (or Equivalent Back Leg Red Meat) (USD)|\n",
    "|x16\t    |Apples (1kg) (USD)|\n",
    "|x17\t    |Banana (1kg) (USD)|\n",
    "|x18\t    |Oranges (1kg) (USD)|\n",
    "|x19\t    |Tomato (1kg) (USD)|\n",
    "|x20\t    |Potato (1kg) (USD)|\n",
    "|x21\t    |Onion (1kg) (USD)|\n",
    "|x22\t    |Lettuce (1 head) (USD)|\n",
    "|x23\t    |Water (1.5 liter bottle, at the market) (USD)|\n",
    "|x24\t    |Bottle of Wine (Mid-Range, at the market) (USD)|\n",
    "|x25\t    |Domestic Beer (0.5 liter bottle, at the market) (USD)|\n",
    "|x26\t    |Imported Beer (0.33 liter bottle, at the market) (USD)|\n",
    "|x27\t    |Cigarettes 20 Pack (Marlboro) (USD)|\n",
    "|x28\t    |One-way Ticket (Local Transport) (USD)|\n",
    "|x29\t    |Monthly Pass (Regular Price) (USD)|\n",
    "|x30\t    |Taxi Start (Normal Tariff) (USD)|\n",
    "|x31\t    |Taxi 1km (Normal Tariff) (USD)|\n",
    "|x32\t    |Taxi 1hour Waiting (Normal Tariff) (USD)|\n",
    "|x33\t    |Gasoline (1 liter) (USD)|\n",
    "|x34\t    |Volkswagen Golf 1.4 90 KW Trendline (Or Equivalent New Car) (USD)|\n",
    "|x35\t    |Toyota Corolla Sedan 1.6l 97kW Comfort (Or Equivalent New Car) (USD)|\n",
    "|x36\t    |Basic (Electricity, Heating, Cooling, Water, Garbage) for 85m2 Apartment (USD)|\n",
    "|x37\t    |1 min. of Prepaid Mobile Tariff Local (No Discounts or Plans) (USD)|\n",
    "|x38\t    |Internet (60 Mbps or More, Unlimited Data, Cable/ADSL) (USD)|\n",
    "|x39\t    |Fitness Club, Monthly Fee for 1 Adult (USD)|\n",
    "|x40\t    |Tennis Court Rent (1 Hour on Weekend) (USD)|\n",
    "|x41\t    |Cinema, International Release, 1 Seat (USD)|\n",
    "|x42\t    |Preschool (or Kindergarten), Full Day, Private, Monthly for 1 Child (USD)|\n",
    "|x43\t    |International Primary School, Yearly for 1 Child (USD)|\n",
    "|x44\t    |1 Pair of Jeans (Levis 501 Or Similar) (USD)|\n",
    "|x45\t    |1 Summer Dress in a Chain Store (Zara, H&M, …) (USD)|\n",
    "|x46\t    |1 Pair of Nike Running Shoes (Mid-Range) (USD)|\n",
    "|x47\t    |1 Pair of Men Leather Business Shoes (USD)|\n",
    "|x48\t    |Apartment (1 bedroom) in City Centre (USD)|\n",
    "|x49\t    |Apartment (1 bedroom) Outside of Centre (USD)|\n",
    "|x50\t    |Apartment (3 bedrooms) in City Centre (USD)|\n",
    "|x51\t    |Apartment (3 bedrooms) Outside of Centre (USD)|\n",
    "|x52\t    |Price per Square Meter to Buy Apartment in City Centre (USD)|\n",
    "|x53\t    |Price per Square Meter to Buy Apartment Outside of Centre (USD)|\n",
    "|x54\t    |Average Monthly Net Salary (After Tax) (USD)|\n",
    "|x55\t    |Mortgage Interest Rate in Percentages (%), Yearly, for 20 Years Fixed-Rate|\n",
    "|data_quality |\t0 if Numbeo considers that more contributors are needed to increase data quality, else 1|\n",
    "\n",
    "\n"
   ]
  },
  {
   "cell_type": "code",
   "execution_count": 1,
   "metadata": {},
   "outputs": [],
   "source": [
    "import pandas as pd\n",
    "import matplotlib.pyplot as plt\n",
    "import numpy as np"
   ]
  },
  {
   "cell_type": "code",
   "execution_count": 2,
   "metadata": {},
   "outputs": [
    {
     "data": {
      "text/plain": [
       "((4956, 59),\n",
       "              region      country                city     x1     x2     x3  \\\n",
       " 0              ASIA  South Korea               Seoul   7.68  53.78   6.15   \n",
       " 1              ASIA        China            Shanghai   5.69  39.86   5.69   \n",
       " 2              ASIA        China           Guangzhou   4.13  28.47   4.98   \n",
       " 3              ASIA        India              Mumbai   3.68  18.42   3.68   \n",
       " 4              ASIA        India               Delhi   4.91  22.11   4.30   \n",
       " ...             ...          ...                 ...    ...    ...    ...   \n",
       " 4951        OCEANIA    Australia        Peterborough    NaN    NaN    NaN   \n",
       " 4952        OCEANIA    Australia          Georgetown    NaN    NaN    NaN   \n",
       " 4953  NORTH AMERICA       Mexico  Ixtapa Zihuatanejo   5.16  30.94  12.89   \n",
       " 4954  NORTH AMERICA       Canada             Iqaluit  29.65  74.27  13.71   \n",
       " 4955        OCEANIA        Tonga              Neiafu    NaN  29.79  10.64   \n",
       " \n",
       "          x4    x5    x6    x7  ...     x47      x48     x49      x50      x51  \\\n",
       " 0      3.07  4.99  3.93  1.48  ...  110.36   742.54  557.52  2669.12  1731.08   \n",
       " 1      1.14  4.27  3.98  0.53  ...  123.51  1091.93  569.88  2952.70  1561.59   \n",
       " 2      0.85  1.71  3.54  0.44  ...   43.89   533.28  317.45  1242.24   688.05   \n",
       " 3      2.46  4.30  2.48  0.48  ...   41.17   522.40  294.05  1411.12   699.80   \n",
       " 4      1.84  3.68  1.77  0.49  ...   36.50   229.84  135.31   601.02   329.15   \n",
       " ...     ...   ...   ...   ...  ...     ...      ...     ...      ...      ...   \n",
       " 4951    NaN   NaN   NaN   NaN  ...     NaN      NaN     NaN      NaN      NaN   \n",
       " 4952    NaN   NaN   NaN   NaN  ...     NaN      NaN     NaN      NaN      NaN   \n",
       " 4953   0.98   NaN  1.80  0.62  ...  103.14   412.55  257.84   515.69   412.55   \n",
       " 4954   6.67  8.89  3.71  3.52  ...     NaN      NaN     NaN  2964.60  2964.60   \n",
       " 4955  10.64   NaN   NaN  2.13  ...     NaN      NaN     NaN      NaN      NaN   \n",
       " \n",
       "            x52       x53      x54   x55  data_quality  \n",
       " 0     22067.70  10971.90  2689.62  3.47             1  \n",
       " 1     17746.11   9416.35  1419.87  5.03             1  \n",
       " 2     12892.82   5427.45  1211.68  5.19             1  \n",
       " 3      6092.45   2777.51   640.81  7.96             1  \n",
       " 4      2506.73   1036.74   586.46  8.06             1  \n",
       " ...        ...       ...      ...   ...           ...  \n",
       " 4951       NaN       NaN      NaN   NaN             0  \n",
       " 4952       NaN       NaN      NaN   NaN             0  \n",
       " 4953       NaN       NaN      NaN   NaN             0  \n",
       " 4954       NaN       NaN      NaN  6.53             0  \n",
       " 4955       NaN       NaN      NaN   NaN             0  \n",
       " \n",
       " [4956 rows x 59 columns])"
      ]
     },
     "execution_count": 2,
     "metadata": {},
     "output_type": "execute_result"
    }
   ],
   "source": [
    "df = pd.read_csv('region_cost-of-living_v2.csv')\n",
    "\n",
    "df.shape, df"
   ]
  },
  {
   "cell_type": "code",
   "execution_count": 3,
   "metadata": {},
   "outputs": [
    {
     "data": {
      "text/plain": [
       "(923, 59)"
      ]
     },
     "execution_count": 3,
     "metadata": {},
     "output_type": "execute_result"
    }
   ],
   "source": [
    "df_good = df[df[\"data_quality\"] == 1] # data quality == 1 to filter for the good data\n",
    "\n",
    "df_good.shape"
   ]
  },
  {
   "attachments": {},
   "cell_type": "markdown",
   "metadata": {},
   "source": [
    "### Check for missing values"
   ]
  },
  {
   "cell_type": "code",
   "execution_count": 4,
   "metadata": {},
   "outputs": [
    {
     "data": {
      "text/plain": [
       "x4      1\n",
       "x5      1\n",
       "x7      1\n",
       "x12     1\n",
       "x14     1\n",
       "x19     3\n",
       "x24     2\n",
       "x25     3\n",
       "x26     4\n",
       "x27     2\n",
       "x28     1\n",
       "x29    13\n",
       "x30     2\n",
       "x31     5\n",
       "x32    22\n",
       "x34     4\n",
       "x35    10\n",
       "x37    28\n",
       "x40    18\n",
       "x41     1\n",
       "x42    11\n",
       "x43    75\n",
       "x46     1\n",
       "x52    21\n",
       "x53    25\n",
       "x54     1\n",
       "x55    13\n",
       "dtype: int64"
      ]
     },
     "execution_count": 4,
     "metadata": {},
     "output_type": "execute_result"
    }
   ],
   "source": [
    "# Count the number of null values in each column\n",
    "null_counts = df_good.isnull().sum()\n",
    "\n",
    "# Select only the columns with null values\n",
    "null_cols = null_counts[null_counts > 0].index\n",
    "\n",
    "# Print the null columns and their respective null counts\n",
    "df_good[null_cols].isnull().sum()"
   ]
  },
  {
   "attachments": {},
   "cell_type": "markdown",
   "metadata": {},
   "source": [
    "### Remove NaN Values"
   ]
  },
  {
   "cell_type": "code",
   "execution_count": 5,
   "metadata": {},
   "outputs": [
    {
     "name": "stderr",
     "output_type": "stream",
     "text": [
      "/var/folders/8l/0kb39xlx2tn3t6kvn8j3v1jm0000gn/T/ipykernel_12469/2797711189.py:1: SettingWithCopyWarning: \n",
      "A value is trying to be set on a copy of a slice from a DataFrame\n",
      "\n",
      "See the caveats in the documentation: https://pandas.pydata.org/pandas-docs/stable/user_guide/indexing.html#returning-a-view-versus-a-copy\n",
      "  df_good.dropna(inplace=True)\n"
     ]
    },
    {
     "data": {
      "text/plain": [
       "region          0\n",
       "country         0\n",
       "city            0\n",
       "x1              0\n",
       "x2              0\n",
       "x3              0\n",
       "x4              0\n",
       "x5              0\n",
       "x6              0\n",
       "x7              0\n",
       "x8              0\n",
       "x9              0\n",
       "x10             0\n",
       "x11             0\n",
       "x12             0\n",
       "x13             0\n",
       "x14             0\n",
       "x15             0\n",
       "x16             0\n",
       "x17             0\n",
       "x18             0\n",
       "x19             0\n",
       "x20             0\n",
       "x21             0\n",
       "x22             0\n",
       "x23             0\n",
       "x24             0\n",
       "x25             0\n",
       "x26             0\n",
       "x27             0\n",
       "x28             0\n",
       "x29             0\n",
       "x30             0\n",
       "x31             0\n",
       "x32             0\n",
       "x33             0\n",
       "x34             0\n",
       "x35             0\n",
       "x36             0\n",
       "x37             0\n",
       "x38             0\n",
       "x39             0\n",
       "x40             0\n",
       "x41             0\n",
       "x42             0\n",
       "x43             0\n",
       "x44             0\n",
       "x45             0\n",
       "x46             0\n",
       "x47             0\n",
       "x48             0\n",
       "x49             0\n",
       "x50             0\n",
       "x51             0\n",
       "x52             0\n",
       "x53             0\n",
       "x54             0\n",
       "x55             0\n",
       "data_quality    0\n",
       "dtype: int64"
      ]
     },
     "execution_count": 5,
     "metadata": {},
     "output_type": "execute_result"
    }
   ],
   "source": [
    "df_good.dropna(inplace=True)\n",
    "df_good.isnull().sum()"
   ]
  },
  {
   "attachments": {},
   "cell_type": "markdown",
   "metadata": {},
   "source": [
    "# @@@@@@@@@@@@@@@@@@@@@@@@@@@@@@@@@@@@@@@@@@@@ Search for Outliers using Interquartile Range@@@@@@@@@@@@@@@@@@@@@@@@@@@@@@@@@@@@@@@@@@@@"
   ]
  },
  {
   "attachments": {},
   "cell_type": "markdown",
   "metadata": {},
   "source": [
    "## CONTINENT: Average Monthly Net Salary (USD) - After Tax "
   ]
  },
  {
   "cell_type": "code",
   "execution_count": 6,
   "metadata": {},
   "outputs": [],
   "source": [
    "df_good_region = df_good[['region','country','x54']]"
   ]
  },
  {
   "cell_type": "code",
   "execution_count": 7,
   "metadata": {},
   "outputs": [
    {
     "name": "stdout",
     "output_type": "stream",
     "text": [
      "For ASIA the average USD net income is $732.46 per month)\n",
      "For AFRICA the average USD net income is $436.42 per month)\n",
      "For SOUTH AMERICA the average USD net income is $580.25 per month)\n",
      "For NORTH AMERICA the average USD net income is $3852.60 per month)\n",
      "For WESTERN EUROPE the average USD net income is $2602.53 per month)\n",
      "For MIDDLE EAST the average USD net income is $1863.07 per month)\n",
      "For OCEANIA the average USD net income is $3460.55 per month)\n",
      "For EASTERN EUROPE the average USD net income is $823.68 per month)\n",
      "For EUROPE the average USD net income is $1032.54 per month)\n"
     ]
    },
    {
     "data": {
      "text/plain": [
       "{'NORTH AMERICA': 3852.6049218750004,\n",
       " 'OCEANIA': 3460.5463157894737,\n",
       " 'WESTERN EUROPE': 2602.526103286385,\n",
       " 'MIDDLE EAST': 1863.067419354839,\n",
       " 'EUROPE': 1032.5362162162164,\n",
       " 'EASTERN EUROPE': 823.6795890410959,\n",
       " 'ASIA': 732.4553691275169,\n",
       " 'SOUTH AMERICA': 580.2528846153847,\n",
       " 'AFRICA': 436.4202380952381}"
      ]
     },
     "execution_count": 7,
     "metadata": {},
     "output_type": "execute_result"
    }
   ],
   "source": [
    "'''\n",
    "For each region I want to calculate the average value\n",
    "\n",
    "For each unique region, \n",
    "    return the mean of x54\n",
    "'''\n",
    "unique_region = df_good_region['region'].unique()\n",
    "\n",
    "\n",
    "avg_income_dict = {}\n",
    "for avg_region in unique_region:\n",
    "   \n",
    "   region_df = df_good_region.loc[df_good_region['region'] == avg_region]\n",
    "   \n",
    "   region_mean = region_df['x54'].mean()\n",
    "   \n",
    "   avg_income_dict.update({avg_region:region_mean})\n",
    "   \n",
    "   print(f'For {avg_region} the average USD net income is ${region_mean:.2f} per month)')\n",
    "avg_income_dict = dict(sorted(avg_income_dict.items(), key=lambda x: x[1], reverse=True))\n",
    "avg_income_dict"
   ]
  },
  {
   "cell_type": "code",
   "execution_count": 8,
   "metadata": {},
   "outputs": [
    {
     "data": {
      "image/png": "[encoded data removed]",
      "text/plain": [
       "<Figure size 432x288 with 1 Axes>"
      ]
     },
     "metadata": {
      "needs_background": "light"
     },
     "output_type": "display_data"
    }
   ],
   "source": [
    "title = \"Average Monthly Net Salary (USD) - After Tax\"\n",
    "xlabel = \"$ (USD)\"\n",
    "ylabel = \"CONTINENT\"\n",
    "\n",
    "plt.barh(list(avg_income_dict.keys()), list(avg_income_dict.values()))\n",
    "plt.title(title)\n",
    "plt.xlabel(xlabel)\n",
    "plt.ylabel(ylabel)\n",
    "\n",
    "plt.show()"
   ]
  },
  {
   "attachments": {},
   "cell_type": "markdown",
   "metadata": {},
   "source": [
    "### North America"
   ]
  },
  {
   "cell_type": "code",
   "execution_count": 9,
   "metadata": {},
   "outputs": [],
   "source": [
    "def region_country_filter(excl_list:None,data, region_filter):\n",
    "\n",
    "    if excl_list == None:\n",
    "        df_country_filter = data[(data['region'] == region_filter)]\n",
    "    else:    \n",
    "        df_country_filter = data[(data['region'] == region_filter) & (~data['country'].isin(excl_list))]\n",
    "\n",
    "    return df_country_filter"
   ]
  },
  {
   "cell_type": "code",
   "execution_count": 10,
   "metadata": {},
   "outputs": [
    {
     "data": {
      "image/png": "[encoded data removed]",
      "text/plain": [
       "<Figure size 432x288 with 1 Axes>"
      ]
     },
     "metadata": {
      "needs_background": "light"
     },
     "output_type": "display_data"
    }
   ],
   "source": [
    "def avg_month_net_sal(data):\n",
    "    sorted_data = data.sort_values(by='x54', ascending=False)\n",
    "    title=\"Average Monthly Net Salary (USD) - After Tax\"\n",
    "    xlabel = \"$ (USD)\"\n",
    "    ylabel = \"CONTINENT\"\n",
    "    fig = plt.barh(sorted_data['country'],sorted_data['x54'])\n",
    "    \n",
    "    return plt.show()\n",
    "\n",
    "\n",
    "df_good_region_AM = region_country_filter(None,df_good_region,'NORTH AMERICA')\n",
    "\n",
    "avg_month_sal_AM = avg_month_net_sal(df_good_region_AM)\n",
    "\n"
   ]
  },
  {
   "attachments": {},
   "cell_type": "markdown",
   "metadata": {},
   "source": [
    "### Asia (excluding Singapore, Brunei, Taiwan, Hong Kong, Japan, South Korea, China)"
   ]
  },
  {
   "cell_type": "code",
   "execution_count": 11,
   "metadata": {},
   "outputs": [
    {
     "data": {
      "image/png": "[encoded data removed]",
      "text/plain": [
       "<Figure size 432x288 with 1 Axes>"
      ]
     },
     "metadata": {
      "needs_background": "light"
     },
     "output_type": "display_data"
    }
   ],
   "source": [
    "excl_as = ['Singapore', 'Brunei','Taiwan','Hong Kong','Japan','South Korea','China']\n",
    "df_good_region_AS = region_country_filter(excl_as,df_good_region,'ASIA')\n",
    "avg_month_sal_AS = avg_month_net_sal(df_good_region_AS)"
   ]
  },
  {
   "attachments": {},
   "cell_type": "markdown",
   "metadata": {},
   "source": [
    "### Africa (excl. South Africa)"
   ]
  },
  {
   "cell_type": "code",
   "execution_count": 12,
   "metadata": {},
   "outputs": [
    {
     "data": {
      "text/plain": [
       "array(['ASIA', 'AFRICA', 'SOUTH AMERICA', 'NORTH AMERICA',\n",
       "       'WESTERN EUROPE', 'MIDDLE EAST', 'OCEANIA', 'EASTERN EUROPE',\n",
       "       'EUROPE'], dtype=object)"
      ]
     },
     "execution_count": 12,
     "metadata": {},
     "output_type": "execute_result"
    }
   ],
   "source": [
    "df_good_region['region'].unique()"
   ]
  },
  {
   "cell_type": "code",
   "execution_count": 13,
   "metadata": {},
   "outputs": [
    {
     "data": {
      "image/png": "[encoded data removed]",
      "text/plain": [
       "<Figure size 432x288 with 1 Axes>"
      ]
     },
     "metadata": {
      "needs_background": "light"
     },
     "output_type": "display_data"
    }
   ],
   "source": [
    "df_good_region_AF = region_country_filter(['South Africa'],df_good_region, 'AFRICA')\n",
    "avg_month_net_sal_AF = avg_month_net_sal(df_good_region_AF)"
   ]
  },
  {
   "attachments": {},
   "cell_type": "markdown",
   "metadata": {},
   "source": [
    "### South America (excl. Bahamas, Bermuda)"
   ]
  },
  {
   "cell_type": "code",
   "execution_count": 14,
   "metadata": {},
   "outputs": [
    {
     "data": {
      "image/png": "[encoded data removed]",
      "text/plain": [
       "<Figure size 432x288 with 1 Axes>"
      ]
     },
     "metadata": {
      "needs_background": "light"
     },
     "output_type": "display_data"
    }
   ],
   "source": [
    "df_good_region_SA = region_country_filter(['Bahamas','Bermuda'],df_good_region, 'SOUTH AMERICA')\n",
    "avg_month_net_sal_SA = avg_month_net_sal(df_good_region_SA)"
   ]
  },
  {
   "attachments": {},
   "cell_type": "markdown",
   "metadata": {},
   "source": [
    "### Western Europe"
   ]
  },
  {
   "cell_type": "code",
   "execution_count": 15,
   "metadata": {},
   "outputs": [
    {
     "data": {
      "text/plain": [
       "array(['ASIA', 'AFRICA', 'SOUTH AMERICA', 'NORTH AMERICA',\n",
       "       'WESTERN EUROPE', 'MIDDLE EAST', 'OCEANIA', 'EASTERN EUROPE',\n",
       "       'EUROPE'], dtype=object)"
      ]
     },
     "execution_count": 15,
     "metadata": {},
     "output_type": "execute_result"
    }
   ],
   "source": [
    "df_good_region['region'].unique()"
   ]
  },
  {
   "cell_type": "code",
   "execution_count": 16,
   "metadata": {},
   "outputs": [
    {
     "data": {
      "image/png": "[encoded data removed]",
      "text/plain": [
       "<Figure size 432x288 with 1 Axes>"
      ]
     },
     "metadata": {
      "needs_background": "light"
     },
     "output_type": "display_data"
    }
   ],
   "source": [
    "df_good_region_EUR = region_country_filter(None,df_good_region, 'EASTERN EUROPE')\n",
    "avg_month_net_sal_EUR = avg_month_net_sal(df_good_region_EUR)"
   ]
  },
  {
   "attachments": {},
   "cell_type": "markdown",
   "metadata": {},
   "source": [
    "### Middle East"
   ]
  },
  {
   "cell_type": "code",
   "execution_count": 17,
   "metadata": {},
   "outputs": [
    {
     "data": {
      "image/png": "[encoded data removed]",
      "text/plain": [
       "<Figure size 432x288 with 1 Axes>"
      ]
     },
     "metadata": {
      "needs_background": "light"
     },
     "output_type": "display_data"
    }
   ],
   "source": [
    "df_good_region_ME = region_country_filter(None,df_good_region, 'MIDDLE EAST')\n",
    "avg_month_net_sal_ME = avg_month_net_sal(df_good_region_ME)"
   ]
  },
  {
   "attachments": {},
   "cell_type": "markdown",
   "metadata": {},
   "source": [
    "### Oceania"
   ]
  },
  {
   "cell_type": "code",
   "execution_count": 18,
   "metadata": {},
   "outputs": [
    {
     "data": {
      "image/png": "[encoded data removed]",
      "text/plain": [
       "<Figure size 432x288 with 1 Axes>"
      ]
     },
     "metadata": {
      "needs_background": "light"
     },
     "output_type": "display_data"
    }
   ],
   "source": [
    "df_good_region_OC = region_country_filter(None,df_good_region, 'OCEANIA')\n",
    "avg_month_net_sal_OC = avg_month_net_sal(df_good_region_OC)"
   ]
  },
  {
   "attachments": {},
   "cell_type": "markdown",
   "metadata": {},
   "source": [
    "### North America: Regression Model"
   ]
  },
  {
   "cell_type": "code",
   "execution_count": 19,
   "metadata": {},
   "outputs": [],
   "source": [
    "from sklearn.model_selection import train_test_split\n",
    "from sklearn.preprocessing import StandardScaler\n",
    "from sklearn.linear_model import LinearRegression\n",
    "from sklearn.metrics import r2_score, mean_squared_error, mean_absolute_error\n",
    "import math"
   ]
  },
  {
   "cell_type": "code",
   "execution_count": 20,
   "metadata": {},
   "outputs": [
    {
     "data": {
      "text/html": [
       "<div>\n",
       "<style scoped>\n",
       "    .dataframe tbody tr th:only-of-type {\n",
       "        vertical-align: middle;\n",
       "    }\n",
       "\n",
       "    .dataframe tbody tr th {\n",
       "        vertical-align: top;\n",
       "    }\n",
       "\n",
       "    .dataframe thead th {\n",
       "        text-align: right;\n",
       "    }\n",
       "</style>\n",
       "<table border=\"1\" class=\"dataframe\">\n",
       "  <thead>\n",
       "    <tr style=\"text-align: right;\">\n",
       "      <th></th>\n",
       "      <th>x1</th>\n",
       "      <th>x2</th>\n",
       "      <th>x3</th>\n",
       "      <th>x4</th>\n",
       "      <th>x5</th>\n",
       "      <th>x6</th>\n",
       "      <th>x7</th>\n",
       "      <th>x8</th>\n",
       "      <th>x9</th>\n",
       "      <th>x10</th>\n",
       "      <th>...</th>\n",
       "      <th>x45</th>\n",
       "      <th>x46</th>\n",
       "      <th>x47</th>\n",
       "      <th>x48</th>\n",
       "      <th>x49</th>\n",
       "      <th>x50</th>\n",
       "      <th>x51</th>\n",
       "      <th>x52</th>\n",
       "      <th>x53</th>\n",
       "      <th>x55</th>\n",
       "    </tr>\n",
       "    <tr>\n",
       "      <th>region</th>\n",
       "      <th></th>\n",
       "      <th></th>\n",
       "      <th></th>\n",
       "      <th></th>\n",
       "      <th></th>\n",
       "      <th></th>\n",
       "      <th></th>\n",
       "      <th></th>\n",
       "      <th></th>\n",
       "      <th></th>\n",
       "      <th></th>\n",
       "      <th></th>\n",
       "      <th></th>\n",
       "      <th></th>\n",
       "      <th></th>\n",
       "      <th></th>\n",
       "      <th></th>\n",
       "      <th></th>\n",
       "      <th></th>\n",
       "      <th></th>\n",
       "      <th></th>\n",
       "    </tr>\n",
       "  </thead>\n",
       "  <tbody>\n",
       "    <tr>\n",
       "      <th>NORTH AMERICA</th>\n",
       "      <td>7.74</td>\n",
       "      <td>39.97</td>\n",
       "      <td>6.70</td>\n",
       "      <td>2.58</td>\n",
       "      <td>4.13</td>\n",
       "      <td>2.71</td>\n",
       "      <td>1.07</td>\n",
       "      <td>0.76</td>\n",
       "      <td>1.32</td>\n",
       "      <td>2.02</td>\n",
       "      <td>...</td>\n",
       "      <td>34.61</td>\n",
       "      <td>84.28</td>\n",
       "      <td>86.26</td>\n",
       "      <td>766.53</td>\n",
       "      <td>481.56</td>\n",
       "      <td>1480.77</td>\n",
       "      <td>850.84</td>\n",
       "      <td>2769.15</td>\n",
       "      <td>1695.80</td>\n",
       "      <td>10.57</td>\n",
       "    </tr>\n",
       "    <tr>\n",
       "      <th>NORTH AMERICA</th>\n",
       "      <td>25.00</td>\n",
       "      <td>100.00</td>\n",
       "      <td>10.00</td>\n",
       "      <td>7.20</td>\n",
       "      <td>10.00</td>\n",
       "      <td>5.38</td>\n",
       "      <td>2.72</td>\n",
       "      <td>2.32</td>\n",
       "      <td>1.26</td>\n",
       "      <td>4.11</td>\n",
       "      <td>...</td>\n",
       "      <td>57.42</td>\n",
       "      <td>95.29</td>\n",
       "      <td>145.62</td>\n",
       "      <td>3851.51</td>\n",
       "      <td>2347.10</td>\n",
       "      <td>7146.84</td>\n",
       "      <td>4279.34</td>\n",
       "      <td>14784.44</td>\n",
       "      <td>9531.27</td>\n",
       "      <td>5.40</td>\n",
       "    </tr>\n",
       "    <tr>\n",
       "      <th>NORTH AMERICA</th>\n",
       "      <td>20.00</td>\n",
       "      <td>88.59</td>\n",
       "      <td>10.00</td>\n",
       "      <td>8.00</td>\n",
       "      <td>8.00</td>\n",
       "      <td>4.94</td>\n",
       "      <td>2.70</td>\n",
       "      <td>2.30</td>\n",
       "      <td>1.14</td>\n",
       "      <td>3.80</td>\n",
       "      <td>...</td>\n",
       "      <td>40.75</td>\n",
       "      <td>93.93</td>\n",
       "      <td>133.00</td>\n",
       "      <td>2527.29</td>\n",
       "      <td>1973.00</td>\n",
       "      <td>4630.53</td>\n",
       "      <td>3599.83</td>\n",
       "      <td>9219.44</td>\n",
       "      <td>6135.43</td>\n",
       "      <td>5.18</td>\n",
       "    </tr>\n",
       "    <tr>\n",
       "      <th>NORTH AMERICA</th>\n",
       "      <td>20.00</td>\n",
       "      <td>80.00</td>\n",
       "      <td>10.00</td>\n",
       "      <td>6.00</td>\n",
       "      <td>6.50</td>\n",
       "      <td>4.83</td>\n",
       "      <td>2.29</td>\n",
       "      <td>1.99</td>\n",
       "      <td>0.84</td>\n",
       "      <td>3.18</td>\n",
       "      <td>...</td>\n",
       "      <td>37.81</td>\n",
       "      <td>86.95</td>\n",
       "      <td>95.95</td>\n",
       "      <td>1969.12</td>\n",
       "      <td>1452.61</td>\n",
       "      <td>3972.22</td>\n",
       "      <td>2450.00</td>\n",
       "      <td>3498.00</td>\n",
       "      <td>2389.59</td>\n",
       "      <td>5.59</td>\n",
       "    </tr>\n",
       "    <tr>\n",
       "      <th>NORTH AMERICA</th>\n",
       "      <td>20.00</td>\n",
       "      <td>100.00</td>\n",
       "      <td>10.00</td>\n",
       "      <td>6.00</td>\n",
       "      <td>8.00</td>\n",
       "      <td>4.59</td>\n",
       "      <td>2.19</td>\n",
       "      <td>2.03</td>\n",
       "      <td>1.15</td>\n",
       "      <td>3.17</td>\n",
       "      <td>...</td>\n",
       "      <td>40.36</td>\n",
       "      <td>79.44</td>\n",
       "      <td>105.77</td>\n",
       "      <td>2604.55</td>\n",
       "      <td>1910.42</td>\n",
       "      <td>4620.37</td>\n",
       "      <td>3175.00</td>\n",
       "      <td>6516.50</td>\n",
       "      <td>2973.53</td>\n",
       "      <td>5.33</td>\n",
       "    </tr>\n",
       "    <tr>\n",
       "      <th>...</th>\n",
       "      <td>...</td>\n",
       "      <td>...</td>\n",
       "      <td>...</td>\n",
       "      <td>...</td>\n",
       "      <td>...</td>\n",
       "      <td>...</td>\n",
       "      <td>...</td>\n",
       "      <td>...</td>\n",
       "      <td>...</td>\n",
       "      <td>...</td>\n",
       "      <td>...</td>\n",
       "      <td>...</td>\n",
       "      <td>...</td>\n",
       "      <td>...</td>\n",
       "      <td>...</td>\n",
       "      <td>...</td>\n",
       "      <td>...</td>\n",
       "      <td>...</td>\n",
       "      <td>...</td>\n",
       "      <td>...</td>\n",
       "      <td>...</td>\n",
       "    </tr>\n",
       "    <tr>\n",
       "      <th>NORTH AMERICA</th>\n",
       "      <td>14.27</td>\n",
       "      <td>64.85</td>\n",
       "      <td>9.63</td>\n",
       "      <td>5.56</td>\n",
       "      <td>5.93</td>\n",
       "      <td>3.07</td>\n",
       "      <td>1.76</td>\n",
       "      <td>1.57</td>\n",
       "      <td>2.28</td>\n",
       "      <td>2.41</td>\n",
       "      <td>...</td>\n",
       "      <td>36.04</td>\n",
       "      <td>75.97</td>\n",
       "      <td>96.53</td>\n",
       "      <td>1168.55</td>\n",
       "      <td>1091.22</td>\n",
       "      <td>1951.69</td>\n",
       "      <td>1825.70</td>\n",
       "      <td>3547.18</td>\n",
       "      <td>3783.68</td>\n",
       "      <td>6.51</td>\n",
       "    </tr>\n",
       "    <tr>\n",
       "      <th>NORTH AMERICA</th>\n",
       "      <td>14.82</td>\n",
       "      <td>59.29</td>\n",
       "      <td>8.89</td>\n",
       "      <td>3.89</td>\n",
       "      <td>5.56</td>\n",
       "      <td>2.78</td>\n",
       "      <td>1.91</td>\n",
       "      <td>1.44</td>\n",
       "      <td>2.08</td>\n",
       "      <td>2.04</td>\n",
       "      <td>...</td>\n",
       "      <td>37.06</td>\n",
       "      <td>90.10</td>\n",
       "      <td>123.12</td>\n",
       "      <td>994.38</td>\n",
       "      <td>778.21</td>\n",
       "      <td>1686.12</td>\n",
       "      <td>1630.53</td>\n",
       "      <td>3869.17</td>\n",
       "      <td>2645.93</td>\n",
       "      <td>7.38</td>\n",
       "    </tr>\n",
       "    <tr>\n",
       "      <th>NORTH AMERICA</th>\n",
       "      <td>14.82</td>\n",
       "      <td>51.88</td>\n",
       "      <td>9.63</td>\n",
       "      <td>4.08</td>\n",
       "      <td>5.56</td>\n",
       "      <td>3.34</td>\n",
       "      <td>1.76</td>\n",
       "      <td>1.45</td>\n",
       "      <td>1.93</td>\n",
       "      <td>2.11</td>\n",
       "      <td>...</td>\n",
       "      <td>30.57</td>\n",
       "      <td>71.89</td>\n",
       "      <td>97.09</td>\n",
       "      <td>926.44</td>\n",
       "      <td>833.79</td>\n",
       "      <td>1247.60</td>\n",
       "      <td>1420.54</td>\n",
       "      <td>1930.60</td>\n",
       "      <td>2536.90</td>\n",
       "      <td>6.90</td>\n",
       "    </tr>\n",
       "    <tr>\n",
       "      <th>NORTH AMERICA</th>\n",
       "      <td>13.00</td>\n",
       "      <td>60.00</td>\n",
       "      <td>8.00</td>\n",
       "      <td>4.50</td>\n",
       "      <td>6.00</td>\n",
       "      <td>4.73</td>\n",
       "      <td>2.07</td>\n",
       "      <td>1.41</td>\n",
       "      <td>1.00</td>\n",
       "      <td>3.26</td>\n",
       "      <td>...</td>\n",
       "      <td>32.14</td>\n",
       "      <td>72.14</td>\n",
       "      <td>77.14</td>\n",
       "      <td>1480.17</td>\n",
       "      <td>1318.33</td>\n",
       "      <td>2433.33</td>\n",
       "      <td>2233.00</td>\n",
       "      <td>1953.65</td>\n",
       "      <td>2058.06</td>\n",
       "      <td>5.34</td>\n",
       "    </tr>\n",
       "    <tr>\n",
       "      <th>NORTH AMERICA</th>\n",
       "      <td>18.53</td>\n",
       "      <td>64.85</td>\n",
       "      <td>7.41</td>\n",
       "      <td>4.45</td>\n",
       "      <td>4.82</td>\n",
       "      <td>2.89</td>\n",
       "      <td>1.72</td>\n",
       "      <td>1.58</td>\n",
       "      <td>2.11</td>\n",
       "      <td>2.28</td>\n",
       "      <td>...</td>\n",
       "      <td>27.79</td>\n",
       "      <td>61.14</td>\n",
       "      <td>83.38</td>\n",
       "      <td>925.51</td>\n",
       "      <td>789.85</td>\n",
       "      <td>1352.60</td>\n",
       "      <td>1227.53</td>\n",
       "      <td>2393.30</td>\n",
       "      <td>1563.62</td>\n",
       "      <td>4.14</td>\n",
       "    </tr>\n",
       "  </tbody>\n",
       "</table>\n",
       "<p>128 rows × 54 columns</p>\n",
       "</div>"
      ],
      "text/plain": [
       "                  x1      x2     x3    x4     x5    x6    x7    x8    x9  \\\n",
       "region                                                                     \n",
       "NORTH AMERICA   7.74   39.97   6.70  2.58   4.13  2.71  1.07  0.76  1.32   \n",
       "NORTH AMERICA  25.00  100.00  10.00  7.20  10.00  5.38  2.72  2.32  1.26   \n",
       "NORTH AMERICA  20.00   88.59  10.00  8.00   8.00  4.94  2.70  2.30  1.14   \n",
       "NORTH AMERICA  20.00   80.00  10.00  6.00   6.50  4.83  2.29  1.99  0.84   \n",
       "NORTH AMERICA  20.00  100.00  10.00  6.00   8.00  4.59  2.19  2.03  1.15   \n",
       "...              ...     ...    ...   ...    ...   ...   ...   ...   ...   \n",
       "NORTH AMERICA  14.27   64.85   9.63  5.56   5.93  3.07  1.76  1.57  2.28   \n",
       "NORTH AMERICA  14.82   59.29   8.89  3.89   5.56  2.78  1.91  1.44  2.08   \n",
       "NORTH AMERICA  14.82   51.88   9.63  4.08   5.56  3.34  1.76  1.45  1.93   \n",
       "NORTH AMERICA  13.00   60.00   8.00  4.50   6.00  4.73  2.07  1.41  1.00   \n",
       "NORTH AMERICA  18.53   64.85   7.41  4.45   4.82  2.89  1.72  1.58  2.11   \n",
       "\n",
       "                x10  ...    x45    x46     x47      x48      x49      x50  \\\n",
       "region               ...                                                    \n",
       "NORTH AMERICA  2.02  ...  34.61  84.28   86.26   766.53   481.56  1480.77   \n",
       "NORTH AMERICA  4.11  ...  57.42  95.29  145.62  3851.51  2347.10  7146.84   \n",
       "NORTH AMERICA  3.80  ...  40.75  93.93  133.00  2527.29  1973.00  4630.53   \n",
       "NORTH AMERICA  3.18  ...  37.81  86.95   95.95  1969.12  1452.61  3972.22   \n",
       "NORTH AMERICA  3.17  ...  40.36  79.44  105.77  2604.55  1910.42  4620.37   \n",
       "...             ...  ...    ...    ...     ...      ...      ...      ...   \n",
       "NORTH AMERICA  2.41  ...  36.04  75.97   96.53  1168.55  1091.22  1951.69   \n",
       "NORTH AMERICA  2.04  ...  37.06  90.10  123.12   994.38   778.21  1686.12   \n",
       "NORTH AMERICA  2.11  ...  30.57  71.89   97.09   926.44   833.79  1247.60   \n",
       "NORTH AMERICA  3.26  ...  32.14  72.14   77.14  1480.17  1318.33  2433.33   \n",
       "NORTH AMERICA  2.28  ...  27.79  61.14   83.38   925.51   789.85  1352.60   \n",
       "\n",
       "                   x51       x52      x53    x55  \n",
       "region                                            \n",
       "NORTH AMERICA   850.84   2769.15  1695.80  10.57  \n",
       "NORTH AMERICA  4279.34  14784.44  9531.27   5.40  \n",
       "NORTH AMERICA  3599.83   9219.44  6135.43   5.18  \n",
       "NORTH AMERICA  2450.00   3498.00  2389.59   5.59  \n",
       "NORTH AMERICA  3175.00   6516.50  2973.53   5.33  \n",
       "...                ...       ...      ...    ...  \n",
       "NORTH AMERICA  1825.70   3547.18  3783.68   6.51  \n",
       "NORTH AMERICA  1630.53   3869.17  2645.93   7.38  \n",
       "NORTH AMERICA  1420.54   1930.60  2536.90   6.90  \n",
       "NORTH AMERICA  2233.00   1953.65  2058.06   5.34  \n",
       "NORTH AMERICA  1227.53   2393.30  1563.62   4.14  \n",
       "\n",
       "[128 rows x 54 columns]"
      ]
     },
     "execution_count": 20,
     "metadata": {},
     "output_type": "execute_result"
    }
   ],
   "source": [
    "\n",
    "df_good_NA = region_country_filter(None,df_good,'NORTH AMERICA')\n",
    "df_good_NA_X = df_good_NA.drop(['country','city','x54','data_quality'], axis=1)\n",
    "df_good_NA_X.set_index('region', inplace=True)\n",
    "df_good_NA_X"
   ]
  },
  {
   "cell_type": "code",
   "execution_count": 21,
   "metadata": {},
   "outputs": [
    {
     "data": {
      "text/plain": [
       "(128,)"
      ]
     },
     "execution_count": 21,
     "metadata": {},
     "output_type": "execute_result"
    }
   ],
   "source": [
    "X_NA = df_good_NA_X\n",
    "\n",
    "#The scaler below causes the adjusted R^2 to go above 1 so for now removed it\n",
    "#scaler = StandardScaler()\n",
    "#X_scaled_NA = scaler.fit_transform(X_NA) \n",
    "\n",
    "# y_americas is the Average Monthly Net Salary (After Tax) - USD\n",
    "y_NA = df_good_NA['x54']\n",
    "y_NA.shape"
   ]
  },
  {
   "cell_type": "code",
   "execution_count": 22,
   "metadata": {},
   "outputs": [],
   "source": [
    "'''\n",
    "Explanatory variables (Features):\n",
    "\n",
    "    # x48 - Apartment (1 bedroom) in City Centre\n",
    "    # x49 - Apartment (1 bedroom) Outside of Centre\n",
    "    # x55 - Mortgage Interest Rate in Percentages (%), Yearly, for 20 Years Fixed-Rate\n",
    "\n",
    "'''\n",
    "\n",
    "X_NA.drop(['x1','x2','x3','x4','x5','x6','x7','x8','x9','x10','x11','x12','x13','x14','x15','x16','x17','x18','x19','x20','x21','x22','x23','x24','x25','x26','x27','x28','x29','x30','x31','x32','x33','x34','x35','x36','x37','x38','x39','x40','x41','x42','x43','x44','x45','x46','x47','x50','x51','x52','x53'], axis = 1, inplace = True)"
   ]
  },
  {
   "cell_type": "code",
   "execution_count": 23,
   "metadata": {},
   "outputs": [
    {
     "name": "stdout",
     "output_type": "stream",
     "text": [
      "The mean Average Monthly Net Salary (USD) in North America: $3852.60\n",
      "MAX Average Monthly Net Salary (USD) in North America: $7833.33\n",
      "MIN Average Monthly Net Salary (USD) in North America: $443.49\n"
     ]
    }
   ],
   "source": [
    "def min_max_mean(y):\n",
    "    print(f'The mean Average Monthly Net Salary (USD) in North America: ${y.mean():.2f}')\n",
    "    print(f'MAX Average Monthly Net Salary (USD) in North America: ${y.max()}')\n",
    "    print(f'MIN Average Monthly Net Salary (USD) in North America: ${y.min()}')\n",
    "min_max_mean(y_NA)"
   ]
  },
  {
   "cell_type": "code",
   "execution_count": 24,
   "metadata": {},
   "outputs": [],
   "source": [
    "# 20% of the data will be used to test against, 80% will be model on\n",
    "X_train_NA, X_test_NA, y_train_NA, y_test_NA = train_test_split(X_NA, y_NA, test_size = 0.2, random_state =42)"
   ]
  },
  {
   "attachments": {},
   "cell_type": "markdown",
   "metadata": {},
   "source": [
    "#### North America: Create Linear Regression Model"
   ]
  },
  {
   "cell_type": "code",
   "execution_count": 25,
   "metadata": {},
   "outputs": [],
   "source": [
    "def model_fit_predict(X_train, X_test, y_train):\n",
    "    '''\n",
    "    This functions is used to take the X_train, X_test and y_train inputs to train, and then predict using the model using the LinearRegression() class.\n",
    "    '''\n",
    "    LR = LinearRegression()\n",
    "    # Train the model using X_train and y_train\n",
    "    LR.fit(X_train, y_train)\n",
    "    \n",
    "    if X_train.shape[1] != X_test.shape[1]:\n",
    "        raise ValueError(\"Training and testing arrays must have the same number of columns\")\n",
    "\n",
    "    # Use model to train on data    \n",
    "    y_pred = LR.predict(X_test)\n",
    "\n",
    "    return y_pred\n",
    "    \n"
   ]
  },
  {
   "cell_type": "code",
   "execution_count": 26,
   "metadata": {},
   "outputs": [],
   "source": [
    "y_pred_NA = model_fit_predict(X_train_NA, X_test_NA, y_train_NA)"
   ]
  },
  {
   "attachments": {},
   "cell_type": "markdown",
   "metadata": {},
   "source": [
    "### North America: Linear Regression Stats"
   ]
  },
  {
   "cell_type": "code",
   "execution_count": 27,
   "metadata": {},
   "outputs": [],
   "source": [
    "# Function to return Ordinary Least Squares stats\n",
    "\n",
    "def ols_stat(y_test, y_pred, X_test):\n",
    "    \n",
    "    # Calculate the R-squared value\n",
    "    r_squared = r2_score(y_test, y_pred)\n",
    "\n",
    "    # Calculate the mean squared error\n",
    "    mse = mean_squared_error(y_test, y_pred)\n",
    "\n",
    "    # Calculate the mean absolute error\n",
    "    mae = mean_absolute_error(y_test, y_pred)\n",
    "\n",
    "    # Calculate the root mean squared error\n",
    "    rmse = math.sqrt(mean_squared_error(y_test, y_pred))\n",
    "\n",
    "    # Calculate the adjusted R-squared\n",
    "    n = len(y_test)\n",
    "    p = X_test.shape[1]\n",
    "    adj_r_squared = 1 - (1 - r_squared) * (n - 1) / (n - p - 1)\n",
    "\n",
    "    print(f'R-squared value: {r_squared:.2f}'), print(f'Mean squared error: {mse:.2f}'), print(f'Mean absolute error: {mae:.2f}'), print(f'Root mean squared error: {rmse:.2f}'), print(f'Adjusted R-squared: {adj_r_squared:.2f}')"
   ]
  },
  {
   "cell_type": "code",
   "execution_count": 28,
   "metadata": {},
   "outputs": [
    {
     "name": "stdout",
     "output_type": "stream",
     "text": [
      "R-squared value: 0.61\n",
      "Mean squared error: 887400.77\n",
      "Mean absolute error: 760.89\n",
      "Root mean squared error: 942.02\n",
      "Adjusted R-squared: 0.56\n"
     ]
    }
   ],
   "source": [
    "ols_stat(y_test_NA,y_pred_NA, X_test_NA)"
   ]
  },
  {
   "attachments": {},
   "cell_type": "markdown",
   "metadata": {},
   "source": [
    "# Continents left to model:\n",
    "['ASIA', 'AFRICA', 'SOUTH AMERICA',\n",
    "       'WESTERN EUROPE', 'MIDDLE EAST', 'OCEANIA', 'EASTERN EUROPE',\n",
    "       'EUROPE']"
   ]
  }
 ],
 "metadata": {
  "kernelspec": {
   "display_name": "base",
   "language": "python",
   "name": "python3"
  },
  "language_info": {
   "codemirror_mode": {
    "name": "ipython",
    "version": 3
   },
   "file_extension": ".py",
   "mimetype": "text/x-python",
   "name": "python",
   "nbconvert_exporter": "python",
   "pygments_lexer": "ipython3",
   "version": "3.9.7"
  },
  "orig_nbformat": 4,
  "vscode": {
   "interpreter": {
    "hash": "376a1d1baabc198ec7bc7b3a9d3ccd21e371151b1ca531a57005cf3b0f2ef45d"
   }
  }
 },
 "nbformat": 4,
 "nbformat_minor": 2
}
